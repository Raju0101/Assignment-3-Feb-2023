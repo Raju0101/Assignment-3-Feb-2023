{
 "cells": [
  {
   "cell_type": "code",
   "execution_count": null,
   "id": "739a5063-ca2c-40bb-ba52-de301837814f",
   "metadata": {},
   "outputs": [],
   "source": [
    "### unsolved-  1,5,"
   ]
  },
  {
   "cell_type": "markdown",
   "id": "97672267-1653-4435-a4ec-3dd419720b64",
   "metadata": {},
   "source": [
    "## Assignment Feb 3."
   ]
  },
  {
   "cell_type": "code",
   "execution_count": 2,
   "id": "e4499ef4-584d-42d9-8248-47b336bdb3cb",
   "metadata": {},
   "outputs": [],
   "source": [
    "## Q1. Which keyword is used to create a function? Create a function to return a \n",
    "## list of odd numbers in the range of 1 to 25."
   ]
  },
  {
   "cell_type": "markdown",
   "id": "64ce9bd9-db01-477a-b600-b631b5cc849c",
   "metadata": {},
   "source": [
    "## \"\"def\"\" keyword is used to create a function."
   ]
  },
  {
   "cell_type": "code",
   "execution_count": 26,
   "id": "58842d0b-72dd-4ecd-968f-05d1e7f5ad5c",
   "metadata": {},
   "outputs": [
    {
     "ename": "SyntaxError",
     "evalue": "invalid syntax (3886891163.py, line 1)",
     "output_type": "error",
     "traceback": [
      "\u001b[0;36m  Cell \u001b[0;32mIn[26], line 1\u001b[0;36m\u001b[0m\n\u001b[0;31m    def odd_no range(25):\u001b[0m\n\u001b[0m               ^\u001b[0m\n\u001b[0;31mSyntaxError\u001b[0m\u001b[0;31m:\u001b[0m invalid syntax\n"
     ]
    }
   ],
   "source": [
    "def odd_no range(25):\n",
    "    if i%2 != 0:\n",
    "        print(i)"
   ]
  },
  {
   "cell_type": "code",
   "execution_count": null,
   "id": "2b762da8-964b-4071-a9c4-38892ab38991",
   "metadata": {},
   "outputs": [],
   "source": []
  },
  {
   "cell_type": "code",
   "execution_count": 81,
   "id": "8bdf3a71-b4b3-4b74-ba19-61a61b478a1b",
   "metadata": {},
   "outputs": [
    {
     "name": "stdout",
     "output_type": "stream",
     "text": [
      "[1, 3, 5, 7, 9, 11, 13, 15, 17, 19, 21, 23]\n"
     ]
    }
   ],
   "source": [
    "l = [i for i in range(25)]\n",
    "\n",
    "\n",
    "l1 = [i for i in l if i%2 != 0]\n",
    "print(l1)\n",
    "    \n",
    "    \n",
    "    "
   ]
  },
  {
   "cell_type": "code",
   "execution_count": 47,
   "id": "76ef96a4-a12c-44b7-9b0d-4d34be420dd8",
   "metadata": {},
   "outputs": [
    {
     "name": "stdout",
     "output_type": "stream",
     "text": [
      "raju\n"
     ]
    }
   ],
   "source": [
    "print(\"raju\")"
   ]
  },
  {
   "cell_type": "markdown",
   "id": "3bbc1c45-4eaf-4d21-9cb0-9a6f06a2cb7d",
   "metadata": {},
   "source": [
    "## Q2. Why *args and **kwargs is used in some functions? Create a function each for *args and **kwargs \n",
    "## to demonstrate their use."
   ]
  },
  {
   "cell_type": "code",
   "execution_count": null,
   "id": "81baff05-c3b3-4219-bb55-8e0e1e9d54df",
   "metadata": {},
   "outputs": [],
   "source": [
    "## In Python, we can pass a variable number of arguments to a function using special symbols.\n",
    "## There are two special symbols:\n",
    "\n",
    "## *args (Non Keyword Arguments)\n",
    "## **kwargs (Keyword Arguments)\n",
    "\n",
    "## We use *args and **kwargs as an argument when we are unsure about the number of arguments to pass in the functions.\n"
   ]
  },
  {
   "cell_type": "code",
   "execution_count": 60,
   "id": "286fe345-b54a-4dcd-ba6c-7adf45714e31",
   "metadata": {},
   "outputs": [
    {
     "name": "stdout",
     "output_type": "stream",
     "text": [
      "Sum: 8\n",
      "Sum: 22\n",
      "Sum: 17\n"
     ]
    }
   ],
   "source": [
    "def adder(*num):\n",
    "    sum = 0\n",
    "    \n",
    "    for n in num:\n",
    "        sum = sum + n\n",
    "\n",
    "    print(\"Sum:\",sum)\n",
    "\n",
    "adder(3,5)\n",
    "adder(4,5,6,7)\n",
    "adder(1,2,3,5,6)"
   ]
  },
  {
   "cell_type": "code",
   "execution_count": 3,
   "id": "c53f47ae-499f-41e4-bbce-2842a14f0679",
   "metadata": {},
   "outputs": [
    {
     "name": "stdout",
     "output_type": "stream",
     "text": [
      "<class 'dict'>\n",
      "Firstname is raju\n",
      "Lastname is kumar\n",
      "Age is 29\n",
      "Phone is 1234567890\n",
      "<class 'dict'>\n",
      "Firstname is pawan\n",
      "Lastname is singh\n",
      "Email is ps@nomail.com\n",
      "Country is India\n",
      "Age is 25\n",
      "Phone is 9876543210\n"
     ]
    }
   ],
   "source": [
    "def intro(**data):\n",
    "    print(type(data))\n",
    "\n",
    "    for key, value in data.items():\n",
    "        print(\"{} is {}\".format(key,value))\n",
    "\n",
    "intro(Firstname=\"raju\", Lastname=\"kumar\", Age=29, Phone=1234567890)\n",
    "intro(Firstname=\"pawan\", Lastname=\"singh\", Email=\"ps@nomail.com\", Country=\"India\", Age=25, Phone=9876543210)"
   ]
  },
  {
   "cell_type": "code",
   "execution_count": 5,
   "id": "60a6b7fe-7ba9-4ca3-8e22-2e7f2c3b82ed",
   "metadata": {},
   "outputs": [],
   "source": [
    "## Q3.  What is an iterator in python? Name the method used to initialise the iterator object and the method \n",
    "## used for iteration. Use these methods to print the first five elements of the given list [2, 4, 6, 8, 10, 12, 14, \n",
    "## 16, 18, 20]."
   ]
  },
  {
   "cell_type": "code",
   "execution_count": null,
   "id": "3b141454-587e-4708-ad5e-6b8c5904ea3f",
   "metadata": {},
   "outputs": [],
   "source": [
    "## Iterators are methods that iterate collections like lists, tuples, etc. Using an iterator method, \n",
    "## we can loop through an  object and return its elements.\n",
    " "
   ]
  },
  {
   "cell_type": "code",
   "execution_count": 9,
   "id": "43516eeb-88b6-4757-abc7-05c434a5d815",
   "metadata": {},
   "outputs": [],
   "source": [
    "l = [2,4,6,8,10,12,14,16,18,20]\n",
    "iterator= iter(l)"
   ]
  },
  {
   "cell_type": "code",
   "execution_count": 12,
   "id": "ac688a2c-21a7-424e-998e-e0773ab43c50",
   "metadata": {},
   "outputs": [
    {
     "name": "stdout",
     "output_type": "stream",
     "text": [
      "2\n"
     ]
    }
   ],
   "source": [
    "print(next(iterator))"
   ]
  },
  {
   "cell_type": "code",
   "execution_count": 13,
   "id": "e20c75a1-ac5b-4f87-a0b5-4ccc36f98b20",
   "metadata": {},
   "outputs": [
    {
     "name": "stdout",
     "output_type": "stream",
     "text": [
      "4\n"
     ]
    }
   ],
   "source": [
    "print(next(iterator))"
   ]
  },
  {
   "cell_type": "code",
   "execution_count": 14,
   "id": "53124dbf-473f-49a0-b5ad-2450a5ca87be",
   "metadata": {},
   "outputs": [
    {
     "name": "stdout",
     "output_type": "stream",
     "text": [
      "6\n"
     ]
    }
   ],
   "source": [
    "print(next(iterator))"
   ]
  },
  {
   "cell_type": "code",
   "execution_count": 15,
   "id": "78206dae-6722-4737-88e9-f8fc1ecf884c",
   "metadata": {},
   "outputs": [
    {
     "name": "stdout",
     "output_type": "stream",
     "text": [
      "8\n"
     ]
    }
   ],
   "source": [
    "print(next(iterator))"
   ]
  },
  {
   "cell_type": "markdown",
   "id": "5cc60330-e0fb-454a-b41e-4e357859c131",
   "metadata": {},
   "source": [
    "## Q4.  What is a generator function in python? Why yield keyword is used? Give an example of a generator function."
   ]
  },
  {
   "cell_type": "code",
   "execution_count": null,
   "id": "f5bba395-ad4a-4552-a418-e821922e3acf",
   "metadata": {},
   "outputs": [],
   "source": [
    "## In Python, generator functions are those functions that, instead of returning a single value, \n",
    "## return an iterable generator object. We can access or read the values returned from the generator \n",
    "## function stored inside a generator object one-by-one using a simple loop or \n",
    "## using next() or list() methods.\n",
    "\n"
   ]
  },
  {
   "cell_type": "code",
   "execution_count": 19,
   "id": "95fb3f9f-da6a-4311-9940-a4fe4bf83111",
   "metadata": {},
   "outputs": [],
   "source": [
    "## yield keyword is used to create a generator function. A type of function that is memory efficient and \n",
    "## can be used like an iterator object.\n"
   ]
  },
  {
   "cell_type": "code",
   "execution_count": 21,
   "id": "0ef3095c-caf8-4c97-b6c5-e60fc8c3022e",
   "metadata": {},
   "outputs": [
    {
     "name": "stdout",
     "output_type": "stream",
     "text": [
      "<class 'generator'>\n",
      "Hello\n",
      "hallo world\n"
     ]
    }
   ],
   "source": [
    "def fun_generator():\n",
    "    yield \"Hello\"\n",
    "    yield \"hallo world\"\n",
    " \n",
    " \n",
    "obj = fun_generator()\n",
    " \n",
    "print(type(obj))\n",
    " \n",
    "print(next(obj))\n",
    "print(next(obj))"
   ]
  },
  {
   "cell_type": "code",
   "execution_count": null,
   "id": "077fd64a-fb17-4b7a-8751-d1caf2b26312",
   "metadata": {},
   "outputs": [],
   "source": []
  },
  {
   "cell_type": "markdown",
   "id": "21c05136-75de-44b0-b5c8-b8e9e23e308c",
   "metadata": {},
   "source": [
    "#### Q5. Create a generator function for prime numbers less than 1000. Use the next() method to print the \n",
    "#### first 20 prime numbers."
   ]
  },
  {
   "cell_type": "code",
   "execution_count": 25,
   "id": "a8f8c2bb-26d3-4f33-956c-f21c55e886b5",
   "metadata": {},
   "outputs": [
    {
     "ename": "SyntaxError",
     "evalue": "invalid syntax (2452474192.py, line 2)",
     "output_type": "error",
     "traceback": [
      "\u001b[0;36m  Cell \u001b[0;32mIn[25], line 2\u001b[0;36m\u001b[0m\n\u001b[0;31m    yeild \"prime number in range(1000)\"\u001b[0m\n\u001b[0m          ^\u001b[0m\n\u001b[0;31mSyntaxError\u001b[0m\u001b[0;31m:\u001b[0m invalid syntax\n"
     ]
    }
   ],
   "source": [
    "def fun_prime_no_generator():\n",
    "    yeild \"prime number in range(1000)\"\n",
    "\n",
    "obj = fun_prime_no_generator()\n",
    "print(type(obj))\n",
    "\n",
    "print(next(obj))\n",
    "print(next(obj))\n"
   ]
  },
  {
   "cell_type": "markdown",
   "id": "a37ed8ef-1376-4e99-b08b-8e9edbd7728e",
   "metadata": {},
   "source": [
    "#### Q6. Write a python program to print the first 10 Fibonacci numbers using a while loop"
   ]
  },
  {
   "cell_type": "code",
   "execution_count": 37,
   "id": "3c2432ce-39fc-4d60-8801-34d5f3b101c5",
   "metadata": {},
   "outputs": [
    {
     "name": "stdout",
     "output_type": "stream",
     "text": [
      "1\n",
      "2\n",
      "3\n",
      "5\n",
      "8\n",
      "13\n",
      "21\n",
      "34\n",
      "55\n",
      "89\n"
     ]
    }
   ],
   "source": [
    "def test_fib1():\n",
    "     a,b = 1,2\n",
    "     while True:\n",
    "            yield a\n",
    "            a,b = b, a+b\n",
    "fib = test_fib1()\n",
    "for i in range(10):\n",
    "    print(next(fib))"
   ]
  },
  {
   "cell_type": "code",
   "execution_count": null,
   "id": "32464fab-b7b0-4a6f-81ea-f33751aa42d0",
   "metadata": {},
   "outputs": [],
   "source": []
  },
  {
   "cell_type": "markdown",
   "id": "27c44d6f-9b79-45c6-a2e3-947a1d39614c",
   "metadata": {},
   "source": [
    "##### Q7. Write a List Comprehension to iterate through the given string: ‘pwskills’.\n",
    "\n",
    "###### Expected output: ['p', 'w', 's', 'k', 'i', 'l', 'l', 's']"
   ]
  },
  {
   "cell_type": "code",
   "execution_count": 40,
   "id": "1a276c9a-9102-4a12-a608-57d22f0363bc",
   "metadata": {},
   "outputs": [
    {
     "name": "stdout",
     "output_type": "stream",
     "text": [
      "['p', 'w', 's', 'k', 'i', 'l', 'l', 's']\n"
     ]
    }
   ],
   "source": [
    "s = \"pwskills\"\n",
    "s1 = [i for i in s]\n",
    "print(s1)"
   ]
  },
  {
   "cell_type": "code",
   "execution_count": null,
   "id": "18cc36d9-b091-4052-a836-b6b6dfb990ee",
   "metadata": {},
   "outputs": [],
   "source": []
  },
  {
   "cell_type": "markdown",
   "id": "73fe1123-b857-434f-bb87-83c35af70c43",
   "metadata": {},
   "source": [
    "#### Q8. Write a python program to check whether a given number is Palindrome or not using a while loop."
   ]
  },
  {
   "cell_type": "code",
   "execution_count": 75,
   "id": "d5383ffd-d8c6-46f8-bd6b-0b9acb7434db",
   "metadata": {},
   "outputs": [
    {
     "name": "stdin",
     "output_type": "stream",
     "text": [
      "Enter number: 88\n"
     ]
    },
    {
     "name": "stdout",
     "output_type": "stream",
     "text": [
      "The number is a palindrome!\n"
     ]
    }
   ],
   "source": [
    "n=int(input(\"Enter number:\"))\n",
    "temp = n\n",
    "rev= 0\n",
    "while(n>0): \n",
    "    dig=n%10 \n",
    "    rev=rev*10+dig \n",
    "    n=n//10 \n",
    "if(temp==rev): \n",
    "    print(\"The number is a palindrome!\") \n",
    "else: \n",
    "    print(\"The number isn't a palindrome!\")"
   ]
  },
  {
   "cell_type": "code",
   "execution_count": null,
   "id": "963dd7ef-907b-41c7-a9d9-ddd5d89c58f8",
   "metadata": {},
   "outputs": [],
   "source": []
  },
  {
   "cell_type": "markdown",
   "id": "da1b02f0-477c-4d1e-a9be-cf080b396451",
   "metadata": {},
   "source": [
    "##### Q9. Write a code to print odd numbers from 1 to 100 using list comprehension.\n",
    "\n"
   ]
  },
  {
   "cell_type": "code",
   "execution_count": 63,
   "id": "6e99863c-21f6-4555-ab24-92049e309fa1",
   "metadata": {},
   "outputs": [
    {
     "name": "stdout",
     "output_type": "stream",
     "text": [
      "[1, 3, 5, 7, 9, 11, 13, 15, 17, 19, 21, 23, 25, 27, 29, 31, 33, 35, 37, 39, 41, 43, 45, 47, 49, 51, 53, 55, 57, 59, 61, 63, 65, 67, 69, 71, 73, 75, 77, 79, 81, 83, 85, 87, 89, 91, 93, 95, 97, 99]\n"
     ]
    }
   ],
   "source": [
    "l = [i for i in range(100)]\n",
    "\n",
    "l1 = [i for i in l if i%2 !=0]\n",
    "print(l1)"
   ]
  },
  {
   "cell_type": "code",
   "execution_count": null,
   "id": "e0740ef5-9098-4124-ab19-4101efb4bbab",
   "metadata": {},
   "outputs": [],
   "source": []
  },
  {
   "cell_type": "markdown",
   "id": "4945d838-c9cd-403d-a4c4-a8f331bd7c0f",
   "metadata": {},
   "source": []
  },
  {
   "cell_type": "code",
   "execution_count": null,
   "id": "902bd0a3-4e88-475e-b2ae-19db237565f5",
   "metadata": {},
   "outputs": [],
   "source": []
  }
 ],
 "metadata": {
  "kernelspec": {
   "display_name": "Python 3 (ipykernel)",
   "language": "python",
   "name": "python3"
  },
  "language_info": {
   "codemirror_mode": {
    "name": "ipython",
    "version": 3
   },
   "file_extension": ".py",
   "mimetype": "text/x-python",
   "name": "python",
   "nbconvert_exporter": "python",
   "pygments_lexer": "ipython3",
   "version": "3.10.8"
  }
 },
 "nbformat": 4,
 "nbformat_minor": 5
}
